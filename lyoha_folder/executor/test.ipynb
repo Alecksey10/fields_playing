{
 "cells": [
  {
   "cell_type": "code",
   "execution_count": 19,
   "id": "1c906422",
   "metadata": {},
   "outputs": [],
   "source": [
    "# from meta.singleton import Singleton\n",
    "from selenium.webdriver.firefox.options import Options\n",
    "from selenium.webdriver.firefox.firefox_profile import FirefoxProfile\n",
    "from selenium import webdriver   \n",
    "from selenium.webdriver.common.by import By\n",
    "from selenium.webdriver.support.wait import WebDriverWait\n",
    "import time\n"
   ]
  },
  {
   "cell_type": "code",
   "execution_count": 32,
   "id": "e847d5cb",
   "metadata": {},
   "outputs": [],
   "source": [
    "pdd_url = 'https://pdd-exam.ru'\n",
    "pdd_bilets_url = 'https://pdd-exam.ru/bilet/'"
   ]
  },
  {
   "cell_type": "code",
   "execution_count": 33,
   "id": "f69045d4",
   "metadata": {},
   "outputs": [],
   "source": [
    "options = Options()\n",
    "driver = webdriver.Firefox(options=options)\n"
   ]
  },
  {
   "cell_type": "code",
   "execution_count": 34,
   "id": "4e56ed44",
   "metadata": {},
   "outputs": [],
   "source": [
    "driver.get('https://pdd-exam.ru')"
   ]
  },
  {
   "cell_type": "code",
   "execution_count": 35,
   "id": "93673fec",
   "metadata": {},
   "outputs": [
    {
     "name": "stdout",
     "output_type": "stream",
     "text": [
      "20\n"
     ]
    }
   ],
   "source": [
    "def select_question_by_number(driver:webdriver.Firefox, id):\n",
    "    '''Важно находиться на желанном билете'''\n",
    "    elems = driver.find_elements(By.CLASS_NAME, 'bilet__qs-num-item')\n",
    "    print(len(elems))\n",
    "    elems[id].click()\n",
    "select_question_by_number(driver, 11)"
   ]
  },
  {
   "cell_type": "code",
   "execution_count": 39,
   "id": "00dfcdbe",
   "metadata": {},
   "outputs": [
    {
     "name": "stdout",
     "output_type": "stream",
     "text": [
      "20\n",
      "остановившись на проезжей части из-за технической неисправности транспортного средства\n",
      "20\n",
      "разрешен\n",
      "20\n",
      "можно\n",
      "20\n",
      "все\n",
      "20\n",
      "перед перекрестком у линии разметки\n",
      "20\n",
      "разрешает движение и информирует о том что вскоре будет включен запрещающий сигнал\n",
      "20\n",
      "во всех перечисленных случаях\n",
      "20\n",
      "возможны оба варианта действий\n",
      "20\n",
      "только по а\n",
      "20\n",
      "не менее 50 км/ч и не более 90 км/ч\n",
      "20\n",
      "можно\n",
      "20\n",
      "при соблюдении обоих перечисленных условий\n",
      "20\n",
      "пешеходам и велосипедисту\n",
      "20\n",
      "обоим трамваям\n",
      "20\n",
      "никому\n",
      "20\n",
      "20 км/ч\n",
      "20\n",
      "только категории «a» или подкатегории «a1» в течение двух и более лет\n",
      "20\n",
      "не работает стеклоподъемник\n",
      "20\n",
      "не прибегая к торможению плавно направить автомобиль на проезжую часть\n",
      "20\n",
      "время с момента обнаружения водителем опасности до начала принятия мер по ее избежанию\n"
     ]
    }
   ],
   "source": [
    "import json\n",
    "\n",
    "def format_text(string:str):\n",
    "    return string.replace(',','').replace('.','').lower()\n",
    "\n",
    "def answer_to_question(driver:webdriver.Firefox,current_bilet_id:int, current_question_id:int, value:bool):\n",
    "    '''\n",
    "    Важно находиться на желанном билете и вопросе\n",
    "    '''\n",
    "    answers = None\n",
    "    with open('../correct_answers.json', 'r') as file:\n",
    "        answers = json.load(file)\n",
    "            \n",
    "    try:\n",
    "        correct_answer_text = format_text(answers[str(current_bilet_id)][current_question_id])\n",
    "        print(correct_answer_text)\n",
    "\n",
    "        answers_buttons = driver.find_elements(By.CLASS_NAME, 'bilet__answer-btn')\n",
    "        flag = False\n",
    "        for answer_btn in answers_buttons:\n",
    "            text = answer_btn.get_attribute('innerText')\n",
    "            text = format_text(text)\n",
    "            if(value):\n",
    "                if(text==correct_answer_text):\n",
    "                    answer_btn.click()\n",
    "                    flag = True\n",
    "                    break\n",
    "            else:\n",
    "                if(text!=correct_answer_text):\n",
    "                    answer_btn.click()\n",
    "                    flag = True\n",
    "                    break\n",
    "        if(not flag):\n",
    "            raise Exception(f\"answer was not founded, {current_bilet_id} ,{current_question_id} ,{value}\")\n",
    "        \n",
    "    except Exception as ex:\n",
    "        print(ex)\n",
    "        raise ex\n",
    "    # elems = driver.find_elements(By.CLASS_NAME, 'bilet__qs-num-item')\n",
    "    # print(len(elems))\n",
    "    # elems[id].click()\n",
    "for i in range(0, 20):\n",
    "    select_question_by_number(driver, i)\n",
    "    answer_to_question(driver, 1, i, False)\n",
    "    time.sleep(3)"
   ]
  },
  {
   "cell_type": "code",
   "execution_count": null,
   "id": "269d5b38",
   "metadata": {},
   "outputs": [],
   "source": [
    "def select_bilet_by_number(driver:webdriver.Firefox, id):\n",
    "    ''' важно находиться на странице с билетами'''\n",
    "    elems = driver.find_elements(By.CLASS_NAME, 'pdd-online__choice-link')\n",
    "    elems[id].click()"
   ]
  },
  {
   "cell_type": "code",
   "execution_count": 24,
   "id": "cac84707",
   "metadata": {},
   "outputs": [],
   "source": [
    "import random\n",
    "\n",
    "\n",
    "def select_bilet_pipeline(driver:webdriver.Firefox, id):\n",
    "    '''\n",
    "    Полный pipeline выбора билета\n",
    "    '''\n",
    "    if(driver.current_url!=pdd_bilets_url):\n",
    "        driver.get(pdd_bilets_url)\n",
    "        time.sleep(5)\n",
    "    select_bilet_by_number(driver, id)\n",
    "    #И такой костыль, чтобы избавиться от рекламы...\n",
    "    driver.refresh()\n",
    "\n",
    "select_bilet_pipeline(driver, random.randint(0, 39))"
   ]
  },
  {
   "cell_type": "code",
   "execution_count": null,
   "id": "8fa7f078",
   "metadata": {},
   "outputs": [],
   "source": []
  }
 ],
 "metadata": {
  "kernelspec": {
   "display_name": "venv",
   "language": "python",
   "name": "python3"
  },
  "language_info": {
   "codemirror_mode": {
    "name": "ipython",
    "version": 3
   },
   "file_extension": ".py",
   "mimetype": "text/x-python",
   "name": "python",
   "nbconvert_exporter": "python",
   "pygments_lexer": "ipython3",
   "version": "3.12.3"
  }
 },
 "nbformat": 4,
 "nbformat_minor": 5
}
