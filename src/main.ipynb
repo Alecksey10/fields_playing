{
 "cells": [
  {
   "cell_type": "code",
   "execution_count": 2,
   "id": "62d585f4",
   "metadata": {},
   "outputs": [],
   "source": [
    "from selenium import webdriver\n",
    "from selenium.webdriver.common.by import By\n",
    "import re\n",
    "from typing import Iterable\n",
    "import os\n",
    "import pathlib\n",
    "import time\n",
    "from selenium.webdriver.common.by import By\n",
    "from selenium.webdriver.support.ui import WebDriverWait\n",
    "from selenium.webdriver.support import expected_conditions as EC"
   ]
  },
  {
   "cell_type": "code",
   "execution_count": null,
   "id": "fe05d142",
   "metadata": {},
   "outputs": [],
   "source": []
  },
  {
   "cell_type": "code",
   "execution_count": 3,
   "id": "65f6adfe",
   "metadata": {},
   "outputs": [],
   "source": [
    "download_dir = pathlib.Path(os.getcwd()).joinpath('./Adel')\n",
    "\n",
    "# Создаем объект Options для Firefox\n",
    "options = webdriver.FirefoxOptions()\n",
    "\n",
    "# Настройки профиля через set_preference\n",
    "options.set_preference(\"browser.download.folderList\", 2)  # 2 - custom location\n",
    "options.set_preference(\"browser.download.manager.showWhenStarting\", False)\n",
    "options.set_preference(\"browser.download.dir\", str(download_dir))\n",
    "options.set_preference(\"browser.helperApps.neverAsk.saveToDisk\", \"application/octet-stream,application/pdf\")\n",
    "options.set_preference(\"pdfjs.disabled\", True)  # Отключить просмотр PDF\n",
    "\n",
    "# Запуск драйвера с опциями\n",
    "driver = webdriver.Firefox(options=options)"
   ]
  },
  {
   "cell_type": "code",
   "execution_count": 4,
   "id": "a678fbaf",
   "metadata": {},
   "outputs": [
    {
     "data": {
      "text/plain": [
       "<selenium.webdriver.remote.webelement.WebElement (session=\"bda44ad8-6a9e-4e17-8f95-7039c3978158\", element=\"608aa4ee-7ede-43eb-9434-a9716c8d4e84\")>"
      ]
     },
     "execution_count": 4,
     "metadata": {},
     "output_type": "execute_result"
    }
   ],
   "source": [
    "driver.get('https://rosstat.gov.ru/dbscripts/munst/')\n",
    "wait = WebDriverWait(driver, 10)\n",
    "wait.until(EC.presence_of_element_located((By.TAG_NAME, 'body')))"
   ]
  },
  {
   "cell_type": "code",
   "execution_count": 5,
   "id": "7d4dc4e6",
   "metadata": {},
   "outputs": [],
   "source": [
    "def get_all_cities(driver):\n",
    "    '''\n",
    "    Получаем все элементы <a> на странице с заданным регулярным выражением pattern\n",
    "    driver должен находиться на необходимой странице сразу\n",
    "    '''\n",
    "    links = driver.find_elements(By.TAG_NAME,\"a\")\n",
    "    \n",
    "    # Регулярное выражение для нужного URL-паттерна\n",
    "    pattern = r\"http://rosstat\\.gov\\.ru/dbscripts/munst/munst.*/DBInet\\.cgi\"\n",
    "    matching_urls = []\n",
    "\n",
    "    for link in links:\n",
    "        href = link.get_attribute(\"href\")\n",
    "        text = link.get_attribute('innerText')\n",
    "        if href and re.match(pattern, href):\n",
    "            matching_urls.append((href, text))\n",
    "    return matching_urls"
   ]
  },
  {
   "cell_type": "code",
   "execution_count": 6,
   "id": "7693359a",
   "metadata": {},
   "outputs": [],
   "source": [
    "cities = get_all_cities(driver)"
   ]
  },
  {
   "cell_type": "code",
   "execution_count": 7,
   "id": "803339c3",
   "metadata": {},
   "outputs": [
    {
     "data": {
      "text/plain": [
       "[('http://rosstat.gov.ru/dbscripts/munst/munst14/DBInet.cgi',\n",
       "  'Белгородская область'),\n",
       " ('http://rosstat.gov.ru/dbscripts/munst/munst15/DBInet.cgi',\n",
       "  'Брянская область'),\n",
       " ('http://rosstat.gov.ru/dbscripts/munst/munst17/DBInet.cgi',\n",
       "  'Владимирская область'),\n",
       " ('http://rosstat.gov.ru/dbscripts/munst/munst20/DBInet.cgi',\n",
       "  'Воронежская область'),\n",
       " ('http://rosstat.gov.ru/dbscripts/munst/munst24/DBInet.cgi',\n",
       "  'Ивановская область'),\n",
       " ('http://rosstat.gov.ru/dbscripts/munst/munst29/DBInet.cgi',\n",
       "  'Калужская область'),\n",
       " ('http://rosstat.gov.ru/dbscripts/munst/munst34/DBInet.cgi',\n",
       "  'Костромская область'),\n",
       " ('http://rosstat.gov.ru/dbscripts/munst/munst38/DBInet.cgi',\n",
       "  'Курская область'),\n",
       " ('http://rosstat.gov.ru/dbscripts/munst/munst42/DBInet.cgi',\n",
       "  'Липецкая область'),\n",
       " ('http://rosstat.gov.ru/dbscripts/munst/munst46/DBInet.cgi',\n",
       "  'Московская область'),\n",
       " ('http://rosstat.gov.ru/dbscripts/munst/munst54/DBInet.cgi',\n",
       "  'Орловская область'),\n",
       " ('http://rosstat.gov.ru/dbscripts/munst/munst61/DBInet.cgi',\n",
       "  'Рязанская область'),\n",
       " ('http://rosstat.gov.ru/dbscripts/munst/munst66/DBInet.cgi',\n",
       "  'Смоленская область'),\n",
       " ('http://rosstat.gov.ru/dbscripts/munst/munst68/DBInet.cgi',\n",
       "  'Тамбовская область'),\n",
       " ('http://rosstat.gov.ru/dbscripts/munst/munst28/DBInet.cgi',\n",
       "  'Тверская область'),\n",
       " ('http://rosstat.gov.ru/dbscripts/munst/munst70/DBInet.cgi',\n",
       "  'Тульская область'),\n",
       " ('http://rosstat.gov.ru/dbscripts/munst/munst78/DBInet.cgi',\n",
       "  'Ярославская область'),\n",
       " ('http://rosstat.gov.ru/dbscripts/munst/munst45/DBInet.cgi', 'г.Москва'),\n",
       " ('http://rosstat.gov.ru/dbscripts/munst/munst86/DBInet.cgi',\n",
       "  'Республика Карелия'),\n",
       " ('http://rosstat.gov.ru/dbscripts/munst/munst87/DBInet.cgi',\n",
       "  'Республика Коми'),\n",
       " ('http://rosstat.gov.ru/dbscripts/munst/munst11/DBInet.cgi',\n",
       "  'Архангельская область'),\n",
       " ('http://rosstat.gov.ru/dbscripts/munst/munst19/DBInet.cgi',\n",
       "  'Вологодская область'),\n",
       " ('http://rosstat.gov.ru/dbscripts/munst/munst27/DBInet.cgi',\n",
       "  'Калининградская область'),\n",
       " ('http://rosstat.gov.ru/dbscripts/munst/munst41/DBInet.cgi',\n",
       "  'Ленинградская область'),\n",
       " ('http://rosstat.gov.ru/dbscripts/munst/munst47/DBInet.cgi',\n",
       "  'Мурманская область'),\n",
       " ('http://rosstat.gov.ru/dbscripts/munst/munst49/DBInet.cgi',\n",
       "  'Новгородская область'),\n",
       " ('http://rosstat.gov.ru/dbscripts/munst/munst58/DBInet.cgi',\n",
       "  'Псковская область'),\n",
       " ('http://rosstat.gov.ru/dbscripts/munst/munst40/DBInet.cgi',\n",
       "  'г.Санкт-Петербург'),\n",
       " ('http://rosstat.gov.ru/dbscripts/munst/munst79/DBInet.cgi',\n",
       "  'Республика Адыгея'),\n",
       " ('http://rosstat.gov.ru/dbscripts/munst/munst85/DBInet.cgi',\n",
       "  'Республика Калмыкия'),\n",
       " ('http://rosstat.gov.ru/dbscripts/munst/munst35/DBInet.cgi',\n",
       "  'Республика Крым'),\n",
       " ('http://rosstat.gov.ru/dbscripts/munst/munst03/DBInet.cgi',\n",
       "  'Краснодарский край'),\n",
       " ('http://rosstat.gov.ru/dbscripts/munst/munst12/DBInet.cgi',\n",
       "  'Астраханская область'),\n",
       " ('http://rosstat.gov.ru/dbscripts/munst/munst18/DBInet.cgi',\n",
       "  'Волгоградская область'),\n",
       " ('http://rosstat.gov.ru/dbscripts/munst/munst60/DBInet.cgi',\n",
       "  'Ростовская область'),\n",
       " ('http://rosstat.gov.ru/dbscripts/munst/munst67/DBInet.cgi',\n",
       "  'г. Севастополь'),\n",
       " ('http://rosstat.gov.ru/dbscripts/munst/munst82/DBInet.cgi',\n",
       "  'Республика Дагестан'),\n",
       " ('http://rosstat.gov.ru/dbscripts/munst/munst83/DBInet.cgi',\n",
       "  'Кабардино-Балкарская Республика'),\n",
       " ('http://rosstat.gov.ru/dbscripts/munst/munst91/DBInet.cgi',\n",
       "  'Карачаево-Черкесская Республика'),\n",
       " ('http://rosstat.gov.ru/dbscripts/munst/munst90/DBInet.cgi',\n",
       "  'Республика Северная Осетия - Алания'),\n",
       " ('http://rosstat.gov.ru/dbscripts/munst/munst96/DBInet.cgi',\n",
       "  'Чеченская Республика'),\n",
       " ('http://rosstat.gov.ru/dbscripts/munst/munst07/DBInet.cgi',\n",
       "  'Ставропольский край'),\n",
       " ('http://rosstat.gov.ru/dbscripts/munst/munst80/DBInet.cgi',\n",
       "  'Республика Башкортостан'),\n",
       " ('http://rosstat.gov.ru/dbscripts/munst/munst88/DBInet.cgi',\n",
       "  'Республика Марий Эл'),\n",
       " ('http://rosstat.gov.ru/dbscripts/munst/munst89/DBInet.cgi',\n",
       "  'Республика Мордовия'),\n",
       " ('http://rosstat.gov.ru/dbscripts/munst/munst92/DBInet.cgi',\n",
       "  'Республика Татарстан'),\n",
       " ('http://rosstat.gov.ru/dbscripts/munst/munst94/DBInet.cgi',\n",
       "  'Удмуртская Республика'),\n",
       " ('http://rosstat.gov.ru/dbscripts/munst/munst97/DBInet.cgi',\n",
       "  'Чувашская Республика'),\n",
       " ('http://rosstat.gov.ru/dbscripts/munst/munst57/DBInet.cgi', 'Пермский край'),\n",
       " ('http://rosstat.gov.ru/dbscripts/munst/munst33/DBInet.cgi',\n",
       "  'Кировская область'),\n",
       " ('http://rosstat.gov.ru/dbscripts/munst/munst22/DBInet.cgi',\n",
       "  'Нижегородская область'),\n",
       " ('http://rosstat.gov.ru/dbscripts/munst/munst53/DBInet.cgi',\n",
       "  'Оренбургская область'),\n",
       " ('http://rosstat.gov.ru/dbscripts/munst/munst56/DBInet.cgi',\n",
       "  'Пензенская область'),\n",
       " ('http://rosstat.gov.ru/dbscripts/munst/munst36/DBInet.cgi',\n",
       "  'Самарская область'),\n",
       " ('http://rosstat.gov.ru/dbscripts/munst/munst63/DBInet.cgi',\n",
       "  'Саратовская область'),\n",
       " ('http://rosstat.gov.ru/dbscripts/munst/munst73/DBInet.cgi',\n",
       "  'Ульяновская область'),\n",
       " ('http://rosstat.gov.ru/dbscripts/munst/munst37/DBInet.cgi',\n",
       "  'Курганская область'),\n",
       " ('http://rosstat.gov.ru/dbscripts/munst/munst65/DBInet.cgi',\n",
       "  'Свердловская область'),\n",
       " ('http://rosstat.gov.ru/dbscripts/munst/munst71/DBInet.cgi',\n",
       "  'Тюменская область'),\n",
       " ('http://rosstat.gov.ru/dbscripts/munst/munst75/DBInet.cgi',\n",
       "  'Челябинская область'),\n",
       " ('http://rosstat.gov.ru/dbscripts/munst/munst84/DBInet.cgi',\n",
       "  'Республика Алтай'),\n",
       " ('http://rosstat.gov.ru/dbscripts/munst/munst81/DBInet.cgi',\n",
       "  'Республика Бурятия'),\n",
       " ('http://rosstat.gov.ru/dbscripts/munst/munst93/DBInet.cgi',\n",
       "  'Республика Тыва'),\n",
       " ('http://rosstat.gov.ru/dbscripts/munst/munst95/DBInet.cgi',\n",
       "  'Республика Хакасия'),\n",
       " ('http://rosstat.gov.ru/dbscripts/munst/munst01/DBInet.cgi',\n",
       "  'Алтайский край'),\n",
       " ('http://rosstat.gov.ru/dbscripts/munst/munst76/DBInet.cgi',\n",
       "  'Забайкальский край'),\n",
       " ('http://rosstat.gov.ru/dbscripts/munst/munst04/DBInet.cgi',\n",
       "  'Красноярский край'),\n",
       " ('http://rosstat.gov.ru/dbscripts/munst/munst25/DBInet.cgi',\n",
       "  'Иркутская область'),\n",
       " ('http://rosstat.gov.ru/dbscripts/munst/munst32/DBInet.cgi',\n",
       "  'Кемеровская область'),\n",
       " ('http://rosstat.gov.ru/dbscripts/munst/munst50/DBInet.cgi',\n",
       "  'Новосибирская область'),\n",
       " ('http://rosstat.gov.ru/dbscripts/munst/munst52/DBInet.cgi',\n",
       "  'Омская область'),\n",
       " ('http://rosstat.gov.ru/dbscripts/munst/munst69/DBInet.cgi',\n",
       "  'Томская область'),\n",
       " ('http://rosstat.gov.ru/dbscripts/munst/munst98/DBInet.cgi',\n",
       "  'Республика Саха (Якутия)'),\n",
       " ('http://rosstat.gov.ru/dbscripts/munst/munst30/DBInet.cgi',\n",
       "  'Камчатский край'),\n",
       " ('http://rosstat.gov.ru/dbscripts/munst/munst05/DBInet.cgi',\n",
       "  'Приморский край'),\n",
       " ('http://rosstat.gov.ru/dbscripts/munst/munst08/DBInet.cgi',\n",
       "  'Хабаровский край'),\n",
       " ('http://rosstat.gov.ru/dbscripts/munst/munst10/DBInet.cgi',\n",
       "  'Амурская область'),\n",
       " ('http://rosstat.gov.ru/dbscripts/munst/munst44/DBInet.cgi',\n",
       "  'Магаданская область'),\n",
       " ('http://rosstat.gov.ru/dbscripts/munst/munst64/DBInet.cgi',\n",
       "  'Сахалинская область'),\n",
       " ('http://rosstat.gov.ru/dbscripts/munst/munst99/DBInet.cgi',\n",
       "  'Еврейская автономная область'),\n",
       " ('http://rosstat.gov.ru/dbscripts/munst/munst77/DBInet.cgi',\n",
       "  'Чукотский автономный округ')]"
      ]
     },
     "execution_count": 7,
     "metadata": {},
     "output_type": "execute_result"
    }
   ],
   "source": [
    "cities"
   ]
  },
  {
   "cell_type": "code",
   "execution_count": 8,
   "id": "7c3b4b1b",
   "metadata": {},
   "outputs": [],
   "source": [
    "moscow = [el for el in filter(lambda x: \"Татарстан\" in x[1], cities)][0]"
   ]
  },
  {
   "cell_type": "code",
   "execution_count": 9,
   "id": "a997e8d3",
   "metadata": {},
   "outputs": [
    {
     "data": {
      "text/plain": [
       "('http://rosstat.gov.ru/dbscripts/munst/munst92/DBInet.cgi',\n",
       " 'Республика Татарстан')"
      ]
     },
     "execution_count": 9,
     "metadata": {},
     "output_type": "execute_result"
    }
   ],
   "source": [
    "moscow"
   ]
  },
  {
   "cell_type": "code",
   "execution_count": 10,
   "id": "d776a626",
   "metadata": {},
   "outputs": [],
   "source": [
    "while True:\n",
    "    driver.get(moscow[0])\n",
    "    wait = WebDriverWait(driver, 10)\n",
    "    wait.until(EC.presence_of_element_located((By.TAG_NAME, 'body')))\n",
    "    if not ('ssl' in driver.current_url):\n",
    "        break"
   ]
  },
  {
   "cell_type": "code",
   "execution_count": 11,
   "id": "2b54c184",
   "metadata": {},
   "outputs": [
    {
     "data": {
      "text/plain": [
       "<selenium.webdriver.remote.webelement.WebElement (session=\"bda44ad8-6a9e-4e17-8f95-7039c3978158\", element=\"bc1f6eb2-404b-45d3-87e6-2f91f8aefdd7\")>"
      ]
     },
     "execution_count": 11,
     "metadata": {},
     "output_type": "execute_result"
    }
   ],
   "source": [
    "wait = WebDriverWait(driver, 10)\n",
    "wait.until(EC.presence_of_element_located((By.TAG_NAME, 'body')))"
   ]
  },
  {
   "cell_type": "code",
   "execution_count": 12,
   "id": "e14d6608",
   "metadata": {},
   "outputs": [],
   "source": [
    "def make_all_children_elements_visible(driver, parent=None):\n",
    "    # Скрипт для изменения стиля элемента\n",
    "    script = \"\"\"\n",
    "    if (arguments[0].style.display === 'none') {\n",
    "        arguments[0].style.display = 'block';  // Можно использовать 'inline', 'inline-block' и т.д.\n",
    "    }\n",
    "    \"\"\"\n",
    "\n",
    "    # Находим все элементы на странице\n",
    "    if(parent==None):\n",
    "        parent = driver\n",
    "    elements = parent.find_elements(\"xpath\", \"//*\")\n",
    "\n",
    "    for element in elements:\n",
    "        style = element.get_attribute(\"style\")\n",
    "        if style and 'display: none' in style.lower():\n",
    "            driver.execute_script(script, element)\n",
    "\n",
    "def get_all_clickable_checkboxes_stage_1(driver):\n",
    "    '''Ищет все checkboxts на первом этапе'''\n",
    "    tree = driver.find_element(By.ID, 'g0').parent\n",
    "    imgs = tree.find_elements(By.TAG_NAME, \"img\")\n",
    "\n",
    "    result_imgs = []\n",
    "    for img in imgs:\n",
    "        if(img.get_attribute('src')=='https://rosstat.gov.ru/dbimages/toS.jpg'):\n",
    "            result_imgs.append(img)\n",
    "    return result_imgs\n"
   ]
  },
  {
   "cell_type": "code",
   "execution_count": 13,
   "id": "fa103d2b",
   "metadata": {},
   "outputs": [],
   "source": [
    "make_all_children_elements_visible(driver, )\n",
    "checkboxes = get_all_clickable_checkboxes_stage_1(driver)"
   ]
  },
  {
   "cell_type": "code",
   "execution_count": 14,
   "id": "050a85f5",
   "metadata": {},
   "outputs": [
    {
     "data": {
      "text/plain": [
       "'Наличие основных строительных машин со сроком службы, превышающим срок амортизации'"
      ]
     },
     "execution_count": 14,
     "metadata": {},
     "output_type": "execute_result"
    }
   ],
   "source": [
    "checkboxes[0].find_element(By.XPATH, \"../../..\").find_elements(By.TAG_NAME, 'td')[-1].get_attribute('innerText')"
   ]
  },
  {
   "cell_type": "code",
   "execution_count": 15,
   "id": "dcdf07ed",
   "metadata": {},
   "outputs": [],
   "source": [
    "# import random\n",
    "# import time\n",
    "# def click_on_checkboxes(checkboxes:Iterable):\n",
    "#     for checkbox in checkboxes:    \n",
    "#         try:\n",
    "#             if(random.randint(0, 100)>50):\n",
    "#                 driver.execute_script(\"arguments[0].scrollIntoView(true);\", checkbox)\n",
    "#                 checkbox.click()\n",
    "#         except Exception as ex:\n",
    "#             print(f\"something is wrong, {ex}\")\n",
    "            "
   ]
  },
  {
   "cell_type": "code",
   "execution_count": 16,
   "id": "214f1189",
   "metadata": {},
   "outputs": [],
   "source": [
    "# for checkbox in checkboxes:\n",
    "#     if(checkbox.get_attribute('src')=='/dbimages/toS.jpg'):\n",
    "#         print(checkbox)"
   ]
  },
  {
   "cell_type": "code",
   "execution_count": 17,
   "id": "282a3c4a",
   "metadata": {},
   "outputs": [],
   "source": [
    "# click_on_checkboxes(checkboxes)\n",
    "checkboxes[0].click()\n",
    "# "
   ]
  },
  {
   "cell_type": "code",
   "execution_count": 18,
   "id": "60f741fb",
   "metadata": {},
   "outputs": [
    {
     "data": {
      "text/plain": [
       "654"
      ]
     },
     "execution_count": 18,
     "metadata": {},
     "output_type": "execute_result"
    }
   ],
   "source": [
    "len(checkboxes)\n",
    "#.get_attribute('innerText')"
   ]
  },
  {
   "cell_type": "code",
   "execution_count": 19,
   "id": "665c7359",
   "metadata": {},
   "outputs": [
    {
     "data": {
      "text/plain": [
       "<selenium.webdriver.remote.webelement.WebElement (session=\"bda44ad8-6a9e-4e17-8f95-7039c3978158\", element=\"bc1f6eb2-404b-45d3-87e6-2f91f8aefdd7\")>"
      ]
     },
     "execution_count": 19,
     "metadata": {},
     "output_type": "execute_result"
    }
   ],
   "source": [
    "wait = WebDriverWait(driver, 10)\n",
    "wait.until(EC.presence_of_element_located((By.TAG_NAME, 'body')))"
   ]
  },
  {
   "cell_type": "code",
   "execution_count": 20,
   "id": "2aa38f75",
   "metadata": {},
   "outputs": [],
   "source": [
    "def start_stage_2(driver):\n",
    "    element = driver.find_element(By.ID, 'Knopka')\n",
    "    element.click()"
   ]
  },
  {
   "cell_type": "code",
   "execution_count": 21,
   "id": "6fb3a983",
   "metadata": {},
   "outputs": [],
   "source": [
    "start_stage_2(driver)"
   ]
  },
  {
   "cell_type": "code",
   "execution_count": null,
   "id": "6cd33302",
   "metadata": {},
   "outputs": [],
   "source": [
    "def select_at_stage_3(driver, year):\n",
    "    checkboxes = driver.find_elements(By.TAG_NAME, 'input')\n",
    "    god_checkbox = None\n",
    "    for checkbox in checkboxes:\n",
    "        if(checkbox.get_attribute('type')!='checkbox'):\n",
    "            continue\n",
    "           \n",
    "        if( checkbox.get_attribute('name')!='god_chk' and \n",
    "           checkbox.get_attribute('checked')==None):\n",
    "            driver.execute_script(\"arguments[0].scrollIntoView(true);\", checkbox)\n",
    "            checkbox.click()\n",
    "        # Снимем выделение со всех годов путём перевыделения \n",
    "        if(checkbox.get_attribute('name')=='god_chk'):\n",
    "            driver.execute_script(\"arguments[0].scrollIntoView(true);\", checkbox)\n",
    "            checkbox.click()\n",
    "            wait = WebDriverWait(driver, 10)\n",
    "            wait.until(EC.presence_of_element_located((By.TAG_NAME, 'body')))\n",
    "            driver.execute_script(\"arguments[0].scrollIntoView(true);\", checkbox)\n",
    "            checkbox.click()\n",
    "\n",
    "    god_select = driver.find_element(By.NAME, 'god')\n",
    "    god_options = god_select.find_elements(By.TAG_NAME, 'option')\n",
    "   \n",
    "\n",
    "\n",
    "\n",
    "    for god_option in god_options:\n",
    "        if(str(god_option.get_attribute('innerText'))==year):\n",
    "            driver.execute_script(\"arguments[0].scrollIntoView(true);\", god_option)\n",
    "            # driver.execute_script(\"arguments[0].setAttribute('selected', '1')\", god_option)\n",
    "            god_option.click()\n",
    "        # else:\n",
    "            # driver.execute_script(\"arguments[0].setAttribute('selected', '0')\", god_option)\n",
    "\n"
   ]
  },
  {
   "cell_type": "code",
   "execution_count": 23,
   "id": "80bd8410",
   "metadata": {},
   "outputs": [],
   "source": [
    "year = '2024'"
   ]
  },
  {
   "cell_type": "code",
   "execution_count": 24,
   "id": "461ab116",
   "metadata": {},
   "outputs": [],
   "source": [
    "wait = WebDriverWait(driver, 10)\n",
    "wait.until(EC.presence_of_element_located((By.TAG_NAME, 'body')))\n",
    "select_at_stage_3(driver, year)"
   ]
  },
  {
   "cell_type": "code",
   "execution_count": 25,
   "id": "f1efe704",
   "metadata": {},
   "outputs": [],
   "source": [
    "def show_table(driver):\n",
    "    inputs = driver.find_elements(By.TAG_NAME, 'input')\n",
    "    btn = [elem for elem in filter(lambda x: x.get_attribute('value')=='Показать таблицу', inputs)][0]\n",
    "    btn.click()"
   ]
  },
  {
   "cell_type": "code",
   "execution_count": 26,
   "id": "a71b61d1",
   "metadata": {},
   "outputs": [
    {
     "data": {
      "text/plain": [
       "<selenium.webdriver.remote.webelement.WebElement (session=\"bda44ad8-6a9e-4e17-8f95-7039c3978158\", element=\"7d020ae0-6b22-4c20-b330-6548e764d9c2\")>"
      ]
     },
     "execution_count": 26,
     "metadata": {},
     "output_type": "execute_result"
    }
   ],
   "source": [
    "old_url = driver.current_url\n",
    "show_table(driver)\n",
    "wait = WebDriverWait(driver, 10)\n",
    "wait.until(EC.presence_of_element_located((By.TAG_NAME, 'body')))"
   ]
  },
  {
   "cell_type": "code",
   "execution_count": 27,
   "id": "d578ab4d",
   "metadata": {},
   "outputs": [
    {
     "data": {
      "text/plain": [
       "<selenium.webdriver.remote.webelement.WebElement (session=\"bda44ad8-6a9e-4e17-8f95-7039c3978158\", element=\"50676d53-3f84-425a-ad03-f16c01a863b8\")>"
      ]
     },
     "execution_count": 27,
     "metadata": {},
     "output_type": "execute_result"
    }
   ],
   "source": [
    "#Если автоматически не перешло на новую вкладку сайта\n",
    "if(old_url==driver.current_url):\n",
    "    document_format = 'CSV'\n",
    "    year_from = year\n",
    "    year_to = year\n",
    "\n",
    "    # У нас открыто новое окно. Старое уже не нужно, поэтому переходим на новое. \n",
    "    original_window = driver.current_window_handle\n",
    "    for window_handle in driver.window_handles:\n",
    "        if window_handle != original_window:\n",
    "            driver.switch_to.window(window_handle)\n",
    "            break\n",
    "wait = WebDriverWait(driver, 10)\n",
    "wait.until(EC.presence_of_element_located((By.TAG_NAME, 'body')))\n"
   ]
  },
  {
   "cell_type": "code",
   "execution_count": 28,
   "id": "6fc3f7b3",
   "metadata": {},
   "outputs": [],
   "source": [
    "def select_at_stage_4(driver, document_format, period_from, period_to):\n",
    "    format_element = driver.find_element(By.NAME,'Format')\n",
    "    year_from_element = driver.find_element(By.NAME,'YearFrom')\n",
    "    year_to_element = driver.find_element(By.NAME,'YearTo')\n",
    "    def choose_option(driver, container_element, option):\n",
    "        options = container_element.find_elements(By.TAG_NAME, 'option')\n",
    "        option = [elem for elem in filter(lambda x: option in x.get_attribute('innerText'), options)][0]\n",
    "        driver.execute_script(\"arguments[0].scrollIntoView(true);\", option)\n",
    "        option.click()\n",
    "    choose_option(driver, format_element, document_format)\n",
    "    choose_option(driver, year_from_element, period_from)\n",
    "    choose_option(driver, year_to_element, period_to)\n",
    "    btn = driver.find_element(By.NAME, 'showtbl')\n",
    "    btn.click()\n"
   ]
  },
  {
   "cell_type": "code",
   "execution_count": 30,
   "id": "fbc622f0",
   "metadata": {},
   "outputs": [],
   "source": [
    "select_at_stage_4(driver, document_format, year_from, year_to)"
   ]
  },
  {
   "cell_type": "code",
   "execution_count": null,
   "id": "2197db1e",
   "metadata": {},
   "outputs": [],
   "source": []
  }
 ],
 "metadata": {
  "kernelspec": {
   "display_name": ".venv",
   "language": "python",
   "name": "python3"
  },
  "language_info": {
   "codemirror_mode": {
    "name": "ipython",
    "version": 3
   },
   "file_extension": ".py",
   "mimetype": "text/x-python",
   "name": "python",
   "nbconvert_exporter": "python",
   "pygments_lexer": "ipython3",
   "version": "3.12.3"
  }
 },
 "nbformat": 4,
 "nbformat_minor": 5
}
